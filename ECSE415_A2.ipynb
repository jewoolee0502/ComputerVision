{
  "nbformat": 4,
  "nbformat_minor": 0,
  "metadata": {
    "colab": {
      "provenance": [],
      "collapsed_sections": [
        "oGxEGNPg5dNC",
        "aJMiij0h5gEH",
        "TA8EFPfw5kEY",
        "wnmBFp605qhq",
        "3ez5BBEb50iR",
        "Tt3GCzBx54d1",
        "1LroQO5U6CHj",
        "oxiBYGNU6E0N",
        "AmOh14Fe6Hua",
        "r2mA2iN76KWX"
      ],
      "authorship_tag": "ABX9TyMxiNvsyZ1BAIs9lFv+0TUN",
      "include_colab_link": true
    },
    "kernelspec": {
      "name": "python3",
      "display_name": "Python 3"
    },
    "language_info": {
      "name": "python"
    }
  },
  "cells": [
    {
      "cell_type": "markdown",
      "metadata": {
        "id": "view-in-github",
        "colab_type": "text"
      },
      "source": [
        "<a href=\"https://colab.research.google.com/github/jewoolee0502/ComputerVision/blob/main/ECSE415_A2.ipynb\" target=\"_parent\"><img src=\"https://colab.research.google.com/assets/colab-badge.svg\" alt=\"Open In Colab\"/></a>"
      ]
    },
    {
      "cell_type": "markdown",
      "source": [
        "# ECSE 415: Introduction to Computer Vision\n",
        "Jewoo Lee - 260910789"
      ],
      "metadata": {
        "id": "82SQfdvL4boK"
      }
    },
    {
      "cell_type": "markdown",
      "source": [
        "## Assignment 2: Feature Matching, Image Alignment"
      ],
      "metadata": {
        "id": "eAS-Svbq4h_9"
      }
    },
    {
      "cell_type": "markdown",
      "source": [
        "### Library Requirements"
      ],
      "metadata": {
        "id": "T5BiIzPA4oJt"
      }
    },
    {
      "cell_type": "code",
      "execution_count": 1,
      "metadata": {
        "colab": {
          "base_uri": "https://localhost:8080/"
        },
        "id": "IxsHotb24QKm",
        "outputId": "8d0098d5-1ee5-4a91-807b-57ce8b764a40"
      },
      "outputs": [
        {
          "output_type": "stream",
          "name": "stdout",
          "text": [
            "Mounted at /content/drive\n"
          ]
        }
      ],
      "source": [
        "# Mount Google Drive\n",
        "from google.colab import drive\n",
        "drive.mount('/content/drive')\n",
        "\n",
        "# Imports\n",
        "import cv2\n",
        "import numpy as np\n",
        "import matplotlib.pyplot as plt"
      ]
    },
    {
      "cell_type": "markdown",
      "source": [
        "#### Path"
      ],
      "metadata": {
        "id": "JuSzWjox43BB"
      }
    },
    {
      "cell_type": "code",
      "source": [
        "img_path = '/content/drive/MyDrive/McGill/2025/Fall 2025/ECSE 415/A1/quebec_city.png'"
      ],
      "metadata": {
        "id": "qrC-QiNz43w8"
      },
      "execution_count": 2,
      "outputs": []
    },
    {
      "cell_type": "markdown",
      "source": [
        "### 1. Harris Corner Detection"
      ],
      "metadata": {
        "id": "WW7yCKy85KnM"
      }
    },
    {
      "cell_type": "markdown",
      "source": [
        "#### 1.1 Implement Harris Corner Detection"
      ],
      "metadata": {
        "id": "oGxEGNPg5dNC"
      }
    },
    {
      "cell_type": "code",
      "source": [],
      "metadata": {
        "id": "qlX7yPK05OEN"
      },
      "execution_count": null,
      "outputs": []
    },
    {
      "cell_type": "markdown",
      "source": [
        "#### 1.2 Visualize Harris Corners"
      ],
      "metadata": {
        "id": "aJMiij0h5gEH"
      }
    },
    {
      "cell_type": "code",
      "source": [],
      "metadata": {
        "id": "C2Na7aAw5jwU"
      },
      "execution_count": null,
      "outputs": []
    },
    {
      "cell_type": "markdown",
      "source": [
        "#### 1.3 Threshold Exploration"
      ],
      "metadata": {
        "id": "TA8EFPfw5kEY"
      }
    },
    {
      "cell_type": "code",
      "source": [],
      "metadata": {
        "id": "txLesjN35mbJ"
      },
      "execution_count": null,
      "outputs": []
    },
    {
      "cell_type": "markdown",
      "source": [
        "#### 1.4 Harris Corners in Transformed Images (Rotation and Scaling)"
      ],
      "metadata": {
        "id": "wnmBFp605qhq"
      }
    },
    {
      "cell_type": "code",
      "source": [],
      "metadata": {
        "id": "TSA2HMgL5wTL"
      },
      "execution_count": null,
      "outputs": []
    },
    {
      "cell_type": "markdown",
      "source": [
        "### 2. SIFT Feature Detection"
      ],
      "metadata": {
        "id": "hiJIVTQq5OgJ"
      }
    },
    {
      "cell_type": "markdown",
      "source": [
        "#### 2.1 Implement SIFT Keypoint Detection and Matching"
      ],
      "metadata": {
        "id": "3ez5BBEb50iR"
      }
    },
    {
      "cell_type": "code",
      "source": [],
      "metadata": {
        "id": "VxgZqT195QqJ"
      },
      "execution_count": null,
      "outputs": []
    },
    {
      "cell_type": "markdown",
      "source": [
        "#### 2.2 SIFT Keypoints on Transformed Images (Rotation and Scaling)"
      ],
      "metadata": {
        "id": "Tt3GCzBx54d1"
      }
    },
    {
      "cell_type": "code",
      "source": [],
      "metadata": {
        "id": "huLznWR_5-aC"
      },
      "execution_count": null,
      "outputs": []
    },
    {
      "cell_type": "markdown",
      "source": [
        "### 3. Image Alignment"
      ],
      "metadata": {
        "id": "Ma1sLgoA5Ra4"
      }
    },
    {
      "cell_type": "markdown",
      "source": [
        "#### 3.1 Keypoint Detection and Matching"
      ],
      "metadata": {
        "id": "1LroQO5U6CHj"
      }
    },
    {
      "cell_type": "code",
      "source": [],
      "metadata": {
        "id": "QpirbYru5Tkn"
      },
      "execution_count": null,
      "outputs": []
    },
    {
      "cell_type": "markdown",
      "source": [
        "#### 3.2 Homography Estimation and Verification"
      ],
      "metadata": {
        "id": "oxiBYGNU6E0N"
      }
    },
    {
      "cell_type": "code",
      "source": [],
      "metadata": {
        "id": "z7qT_Hhn6HYg"
      },
      "execution_count": null,
      "outputs": []
    },
    {
      "cell_type": "markdown",
      "source": [
        "#### 3.3 Image Stitching and Blending"
      ],
      "metadata": {
        "id": "AmOh14Fe6Hua"
      }
    },
    {
      "cell_type": "code",
      "source": [],
      "metadata": {
        "id": "hI1EaUha6KDB"
      },
      "execution_count": null,
      "outputs": []
    },
    {
      "cell_type": "markdown",
      "source": [
        "#### 3.4 Evaluation and Reflection"
      ],
      "metadata": {
        "id": "r2mA2iN76KWX"
      }
    },
    {
      "cell_type": "markdown",
      "source": [
        "Write a short paragraph discussing:\n",
        "\n",
        "• How well your homography aligned the images.\n",
        "• Whether you observed ghosting, seams, or misalignments.\n",
        "• What could be improved."
      ],
      "metadata": {
        "id": "_EQgBaKW6Sea"
      }
    }
  ]
}