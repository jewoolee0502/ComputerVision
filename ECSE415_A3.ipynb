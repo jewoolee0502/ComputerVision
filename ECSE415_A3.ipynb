{
  "nbformat": 4,
  "nbformat_minor": 0,
  "metadata": {
    "colab": {
      "provenance": [],
      "collapsed_sections": [
        "odQ13bXDUlgL",
        "HmbGpcb5U6KD"
      ],
      "authorship_tag": "ABX9TyPmiFV/yAUjAxo3kCA0E2gU",
      "include_colab_link": true
    },
    "kernelspec": {
      "name": "python3",
      "display_name": "Python 3"
    },
    "language_info": {
      "name": "python"
    }
  },
  "cells": [
    {
      "cell_type": "markdown",
      "metadata": {
        "id": "view-in-github",
        "colab_type": "text"
      },
      "source": [
        "<a href=\"https://colab.research.google.com/github/jewoolee0502/ComputerVision/blob/main/ECSE415_A3.ipynb\" target=\"_parent\"><img src=\"https://colab.research.google.com/assets/colab-badge.svg\" alt=\"Open In Colab\"/></a>"
      ]
    },
    {
      "cell_type": "markdown",
      "source": [
        "# ECSE 415: Introduction to Computer Vision\n",
        "Jewoo Lee - 260910789"
      ],
      "metadata": {
        "id": "LH2e575BT2UM"
      }
    },
    {
      "cell_type": "markdown",
      "source": [
        "## Assignment 3: Classifiers and Object Recognition"
      ],
      "metadata": {
        "id": "z0tGZyxsT6CN"
      }
    },
    {
      "cell_type": "markdown",
      "source": [
        "### Library Requirements"
      ],
      "metadata": {
        "id": "-TQaJJ8_URJl"
      }
    },
    {
      "cell_type": "code",
      "source": [
        "# Mount Google Drive\n",
        "from google.colab import drive\n",
        "drive.mount('/content/drive')\n",
        "\n",
        "# Imports\n",
        "import cv2\n",
        "import numpy as np\n",
        "import matplotlib.pyplot as plt\n",
        "import pandas as pd"
      ],
      "metadata": {
        "id": "rw8rb6laUTXj"
      },
      "execution_count": null,
      "outputs": []
    },
    {
      "cell_type": "markdown",
      "source": [
        "#### Path"
      ],
      "metadata": {
        "id": "jtEXz1IqUXBX"
      }
    },
    {
      "cell_type": "code",
      "source": [
        "path = '/content/drive/MyDrive/McGill/2025/Fall 2025/ECSE 415/A3/'"
      ],
      "metadata": {
        "id": "HGNhpQWQUXsz"
      },
      "execution_count": 1,
      "outputs": []
    },
    {
      "cell_type": "markdown",
      "source": [
        "### 1. Face Detection"
      ],
      "metadata": {
        "id": "u3nXYiYGUfT1"
      }
    },
    {
      "cell_type": "code",
      "source": [],
      "metadata": {
        "id": "61dvx6yyUhoE"
      },
      "execution_count": null,
      "outputs": []
    },
    {
      "cell_type": "markdown",
      "source": [
        "### 2. Classifiers"
      ],
      "metadata": {
        "id": "odQ13bXDUlgL"
      }
    },
    {
      "cell_type": "code",
      "source": [],
      "metadata": {
        "id": "zwuKixNMUm6T"
      },
      "execution_count": null,
      "outputs": []
    },
    {
      "cell_type": "markdown",
      "source": [
        "#### 2.1 Dataset Preparation"
      ],
      "metadata": {
        "id": "llID35oqUt4n"
      }
    },
    {
      "cell_type": "code",
      "source": [],
      "metadata": {
        "id": "niTDpRkmUww-"
      },
      "execution_count": null,
      "outputs": []
    },
    {
      "cell_type": "markdown",
      "source": [
        "#### 2.2 Feature Extraction"
      ],
      "metadata": {
        "id": "WMf3-CTaUxQR"
      }
    },
    {
      "cell_type": "code",
      "source": [],
      "metadata": {
        "id": "vhWQiwc4Uy7w"
      },
      "execution_count": null,
      "outputs": []
    },
    {
      "cell_type": "markdown",
      "source": [
        "#### 2.3 SVM Classifiers"
      ],
      "metadata": {
        "id": "KLJY9pyYUzvW"
      }
    },
    {
      "cell_type": "code",
      "source": [],
      "metadata": {
        "id": "xQ9HH8JtU16s"
      },
      "execution_count": null,
      "outputs": []
    },
    {
      "cell_type": "markdown",
      "source": [
        "#### 2.4 Random Forest Classifiers"
      ],
      "metadata": {
        "id": "R4Mzd8R1U2Y6"
      }
    },
    {
      "cell_type": "code",
      "source": [],
      "metadata": {
        "id": "MBEHpsLCU4JR"
      },
      "execution_count": null,
      "outputs": []
    },
    {
      "cell_type": "markdown",
      "source": [
        "#### 2.5 Testing and Visualization"
      ],
      "metadata": {
        "id": "HmbGpcb5U6KD"
      }
    },
    {
      "cell_type": "code",
      "source": [],
      "metadata": {
        "id": "A4PMlXuKU8L_"
      },
      "execution_count": null,
      "outputs": []
    },
    {
      "cell_type": "markdown",
      "source": [
        "#### 2.6 Analysis and Discussion"
      ],
      "metadata": {
        "id": "0Of_WqD-U9Su"
      }
    }
  ]
}